{
 "cells": [
  {
   "cell_type": "code",
   "execution_count": 1,
   "id": "822d79a8-a5ad-4033-99f5-cee7ba9ffd55",
   "metadata": {
    "tags": []
   },
   "outputs": [
    {
     "name": "stdout",
     "output_type": "stream",
     "text": [
      "Hello\n"
     ]
    }
   ],
   "source": [
    "original_string = \"!(Hell@o)\"\n",
    "characters_to_remove = \"!()@\"\n",
    "\n",
    "new_string = original_string\n",
    "for character in characters_to_remove:\n",
    "  new_string = new_string.replace(character, \"\")\n",
    "\n",
    "print(new_string)"
   ]
  },
  {
   "cell_type": "code",
   "execution_count": null,
   "id": "c328fa37-0d3e-4043-92be-20f2ac50e59d",
   "metadata": {},
   "outputs": [],
   "source": []
  }
 ],
 "metadata": {
  "kernelspec": {
   "display_name": "Python 3 (ipykernel)",
   "language": "python",
   "name": "python3"
  },
  "language_info": {
   "codemirror_mode": {
    "name": "ipython",
    "version": 3
   },
   "file_extension": ".py",
   "mimetype": "text/x-python",
   "name": "python",
   "nbconvert_exporter": "python",
   "pygments_lexer": "ipython3",
   "version": "3.10.12"
  }
 },
 "nbformat": 4,
 "nbformat_minor": 5
}
