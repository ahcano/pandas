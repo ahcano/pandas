{
 "cells": [
  {
   "cell_type": "code",
   "execution_count": 1,
   "id": "5b7e74a2-18c7-4309-929e-51f029595688",
   "metadata": {
    "tags": []
   },
   "outputs": [
    {
     "name": "stdout",
     "output_type": "stream",
     "text": [
      "Collecting alpaca-trade-api\n",
      "  Obtaining dependency information for alpaca-trade-api from https://files.pythonhosted.org/packages/84/5e/4912930d8f64a4a8c425b2a277849cc339a22b2046d3ecd7cbe6743f0021/alpaca_trade_api-3.0.2-py3-none-any.whl.metadata\n",
      "  Downloading alpaca_trade_api-3.0.2-py3-none-any.whl.metadata (29 kB)\n",
      "Requirement already satisfied: pandas>=0.18.1 in c:\\users\\ana_c\\anaconda3\\envs\\dev\\lib\\site-packages (from alpaca-trade-api) (1.5.3)\n",
      "Requirement already satisfied: numpy>=1.11.1 in c:\\users\\ana_c\\anaconda3\\envs\\dev\\lib\\site-packages (from alpaca-trade-api) (1.24.3)\n",
      "Requirement already satisfied: requests<3,>2 in c:\\users\\ana_c\\anaconda3\\envs\\dev\\lib\\site-packages (from alpaca-trade-api) (2.31.0)\n",
      "Requirement already satisfied: urllib3<2,>1.24 in c:\\users\\ana_c\\anaconda3\\envs\\dev\\lib\\site-packages (from alpaca-trade-api) (1.26.16)\n",
      "Requirement already satisfied: websocket-client<2,>=0.56.0 in c:\\users\\ana_c\\anaconda3\\envs\\dev\\lib\\site-packages (from alpaca-trade-api) (0.58.0)\n",
      "Collecting websockets<11,>=9.0 (from alpaca-trade-api)\n",
      "  Downloading websockets-10.4-cp310-cp310-win_amd64.whl (101 kB)\n",
      "     ---------------------------------------- 0.0/101.4 kB ? eta -:--:--\n",
      "     ----------------------------------- --- 92.2/101.4 kB 2.6 MB/s eta 0:00:01\n",
      "     -------------------------------------- 101.4/101.4 kB 1.9 MB/s eta 0:00:00\n",
      "Requirement already satisfied: msgpack==1.0.3 in c:\\users\\ana_c\\anaconda3\\envs\\dev\\lib\\site-packages (from alpaca-trade-api) (1.0.3)\n",
      "Collecting aiohttp==3.8.2 (from alpaca-trade-api)\n",
      "  Downloading aiohttp-3.8.2-cp310-cp310-win_amd64.whl (319 kB)\n",
      "     ---------------------------------------- 0.0/319.7 kB ? eta -:--:--\n",
      "     -------------------------------- ----- 276.5/319.7 kB 8.6 MB/s eta 0:00:01\n",
      "     -------------------------------------- 319.7/319.7 kB 5.0 MB/s eta 0:00:00\n",
      "Requirement already satisfied: PyYAML==6.0 in c:\\users\\ana_c\\anaconda3\\envs\\dev\\lib\\site-packages (from alpaca-trade-api) (6.0)\n",
      "Collecting deprecation==2.1.0 (from alpaca-trade-api)\n",
      "  Downloading deprecation-2.1.0-py2.py3-none-any.whl (11 kB)\n",
      "Requirement already satisfied: attrs>=17.3.0 in c:\\users\\ana_c\\anaconda3\\envs\\dev\\lib\\site-packages (from aiohttp==3.8.2->alpaca-trade-api) (22.1.0)\n",
      "Requirement already satisfied: charset-normalizer<3.0,>=2.0 in c:\\users\\ana_c\\anaconda3\\envs\\dev\\lib\\site-packages (from aiohttp==3.8.2->alpaca-trade-api) (2.0.4)\n",
      "Collecting multidict<6.0,>=4.5 (from aiohttp==3.8.2->alpaca-trade-api)\n",
      "  Downloading multidict-5.2.0-cp310-cp310-win_amd64.whl (45 kB)\n",
      "     ---------------------------------------- 0.0/45.4 kB ? eta -:--:--\n",
      "     ---------------------------------------- 45.4/45.4 kB 2.2 MB/s eta 0:00:00\n",
      "Requirement already satisfied: async-timeout<5.0,>=4.0.0a3 in c:\\users\\ana_c\\anaconda3\\envs\\dev\\lib\\site-packages (from aiohttp==3.8.2->alpaca-trade-api) (4.0.2)\n",
      "Requirement already satisfied: yarl<2.0,>=1.0 in c:\\users\\ana_c\\anaconda3\\envs\\dev\\lib\\site-packages (from aiohttp==3.8.2->alpaca-trade-api) (1.8.1)\n",
      "Requirement already satisfied: frozenlist>=1.1.1 in c:\\users\\ana_c\\anaconda3\\envs\\dev\\lib\\site-packages (from aiohttp==3.8.2->alpaca-trade-api) (1.3.3)\n",
      "Requirement already satisfied: aiosignal>=1.1.2 in c:\\users\\ana_c\\anaconda3\\envs\\dev\\lib\\site-packages (from aiohttp==3.8.2->alpaca-trade-api) (1.2.0)\n",
      "Requirement already satisfied: packaging in c:\\users\\ana_c\\anaconda3\\envs\\dev\\lib\\site-packages (from deprecation==2.1.0->alpaca-trade-api) (23.0)\n",
      "Requirement already satisfied: python-dateutil>=2.8.1 in c:\\users\\ana_c\\anaconda3\\envs\\dev\\lib\\site-packages (from pandas>=0.18.1->alpaca-trade-api) (2.8.2)\n",
      "Requirement already satisfied: pytz>=2020.1 in c:\\users\\ana_c\\anaconda3\\envs\\dev\\lib\\site-packages (from pandas>=0.18.1->alpaca-trade-api) (2022.7)\n",
      "Requirement already satisfied: idna<4,>=2.5 in c:\\users\\ana_c\\anaconda3\\envs\\dev\\lib\\site-packages (from requests<3,>2->alpaca-trade-api) (3.4)\n",
      "Requirement already satisfied: certifi>=2017.4.17 in c:\\users\\ana_c\\anaconda3\\envs\\dev\\lib\\site-packages (from requests<3,>2->alpaca-trade-api) (2023.7.22)\n",
      "Requirement already satisfied: six in c:\\users\\ana_c\\anaconda3\\envs\\dev\\lib\\site-packages (from websocket-client<2,>=0.56.0->alpaca-trade-api) (1.16.0)\n",
      "Downloading alpaca_trade_api-3.0.2-py3-none-any.whl (34 kB)\n",
      "Installing collected packages: websockets, multidict, deprecation, aiohttp, alpaca-trade-api\n",
      "  Attempting uninstall: multidict\n",
      "    Found existing installation: multidict 6.0.2\n",
      "    Uninstalling multidict-6.0.2:\n",
      "      Successfully uninstalled multidict-6.0.2\n",
      "  Attempting uninstall: aiohttp\n",
      "    Found existing installation: aiohttp 3.8.3\n",
      "    Uninstalling aiohttp-3.8.3:\n",
      "      Successfully uninstalled aiohttp-3.8.3\n",
      "Successfully installed aiohttp-3.8.2 alpaca-trade-api-3.0.2 deprecation-2.1.0 multidict-5.2.0 websockets-10.4\n",
      "Note: you may need to restart the kernel to use updated packages.\n"
     ]
    },
    {
     "name": "stderr",
     "output_type": "stream",
     "text": [
      "WARNING: The candidate selected for download or install is a yanked version: 'aiohttp' candidate (version 3.8.2 at https://files.pythonhosted.org/packages/91/be/9a1eb0525c3216b08d9ba5ec23d7a5fdaec665316121d8c364934f7899d7/aiohttp-3.8.2-cp310-cp310-win_amd64.whl (from https://pypi.org/simple/aiohttp/) (requires-python:>=3.6))\n",
      "Reason for being yanked: This version includes overly restrictive multidict upper boundary disallowing multidict v6+. The previous patch version didn't have that and this is now causing dependency resolution problems for the users who have an \"incompatible\" version pinned. This is not really necessary anymore and will be addressed in the next release v3.8.3\n",
      "\n",
      "https://github.com/aio-libs/aiohttp/pull/6950\n"
     ]
    }
   ],
   "source": [
    "pip install alpaca-trade-api"
   ]
  },
  {
   "cell_type": "code",
   "execution_count": 2,
   "id": "5396d483-42be-401f-82f3-94b40c45d072",
   "metadata": {
    "tags": []
   },
   "outputs": [],
   "source": [
    "import alpaca_trade_api as tradeapi"
   ]
  },
  {
   "cell_type": "code",
   "execution_count": null,
   "id": "5a457f51-892c-44e6-afcb-7c995772acfc",
   "metadata": {},
   "outputs": [],
   "source": []
  }
 ],
 "metadata": {
  "kernelspec": {
   "display_name": "Python 3 (ipykernel)",
   "language": "python",
   "name": "python3"
  },
  "language_info": {
   "codemirror_mode": {
    "name": "ipython",
    "version": 3
   },
   "file_extension": ".py",
   "mimetype": "text/x-python",
   "name": "python",
   "nbconvert_exporter": "python",
   "pygments_lexer": "ipython3",
   "version": "3.10.12"
  }
 },
 "nbformat": 4,
 "nbformat_minor": 5
}
