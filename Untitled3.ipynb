{
 "cells": [
  {
   "cell_type": "code",
   "execution_count": 24,
   "id": "15bcf024-ad80-43d1-8cb1-ed09d0f962c2",
   "metadata": {
    "tags": []
   },
   "outputs": [],
   "source": [
    "#initial imports\n",
    "import requests\n",
    "from dotenv import load_dotenv\n",
    "import os"
   ]
  },
  {
   "cell_type": "code",
   "execution_count": 26,
   "id": "ae0b4d27-1d81-450e-ac9f-57325864e3bd",
   "metadata": {
    "tags": []
   },
   "outputs": [
    {
     "data": {
      "text/plain": [
       "True"
      ]
     },
     "execution_count": 26,
     "metadata": {},
     "output_type": "execute_result"
    }
   ],
   "source": [
    "load_dotenv(r\"C:\\Users\\ana_c\\OneDrive\\Desktop\\example.env.txt\")"
   ]
  },
  {
   "cell_type": "code",
   "execution_count": 19,
   "id": "0c29f285-db21-435f-a5b9-0b23f1f0aafb",
   "metadata": {
    "tags": []
   },
   "outputs": [
    {
     "name": "stdout",
     "output_type": "stream",
     "text": [
      "Requirement already satisfied: python-dotenv in c:\\users\\ana_c\\anaconda3\\envs\\dev\\lib\\site-packages (1.0.0)\n",
      "Note: you may need to restart the kernel to use updated packages.\n"
     ]
    }
   ],
   "source": [
    "pip install python-dotenv"
   ]
  },
  {
   "cell_type": "code",
   "execution_count": 27,
   "id": "05cf71cc-ff6c-44f4-8f9b-3840aac1f632",
   "metadata": {
    "tags": []
   },
   "outputs": [],
   "source": [
    "api_key = os.getenv(\"NASDAQ_API_KEY\")"
   ]
  },
  {
   "cell_type": "code",
   "execution_count": 28,
   "id": "f20e4078-3c88-474d-a37f-51f5c4dfa2fa",
   "metadata": {
    "tags": []
   },
   "outputs": [
    {
     "data": {
      "text/plain": [
       "str"
      ]
     },
     "execution_count": 28,
     "metadata": {},
     "output_type": "execute_result"
    }
   ],
   "source": [
    "type(api_key)"
   ]
  },
  {
   "cell_type": "code",
   "execution_count": 36,
   "id": "f423c4b0-7507-4eab-89ad-a4a8818ef98b",
   "metadata": {
    "tags": []
   },
   "outputs": [],
   "source": [
    "# Define the base request URL\n",
    "request_url = \"https://data.nasdaq.com/api/v3/datasets/WIKI/MSFT.json?api_key=\""
   ]
  },
  {
   "cell_type": "code",
   "execution_count": 37,
   "id": "f2c4273b-66bf-4f57-abbb-7118aa33289a",
   "metadata": {
    "tags": []
   },
   "outputs": [],
   "source": [
    "# Concatenate request_url and api_key. Store as new variable\n",
    "request_url = request_url + api_key"
   ]
  },
  {
   "cell_type": "code",
   "execution_count": 38,
   "id": "5629fa5e-a4a7-4be5-9f40-d93316c9a301",
   "metadata": {
    "tags": []
   },
   "outputs": [
    {
     "data": {
      "text/plain": [
       "False"
      ]
     },
     "execution_count": 38,
     "metadata": {},
     "output_type": "execute_result"
    }
   ],
   "source": [
    "load_dotenv(r\"C:\\Users\\ana_c\\OneDrive\\Desktop\\example.env\")"
   ]
  },
  {
   "cell_type": "code",
   "execution_count": 39,
   "id": "e8dbc6d2-3baf-4707-8b8a-69bfce39dec2",
   "metadata": {},
   "outputs": [
    {
     "data": {
      "text/plain": [
       "'BsyCxhg4_kUoiAzc96K7'"
      ]
     },
     "execution_count": 39,
     "metadata": {},
     "output_type": "execute_result"
    }
   ],
   "source": [
    "api_key"
   ]
  },
  {
   "cell_type": "code",
   "execution_count": 40,
   "id": "16b18829-5147-401f-a417-bdea63cc7bd6",
   "metadata": {
    "tags": []
   },
   "outputs": [
    {
     "data": {
      "text/plain": [
       "'https://data.nasdaq.com/api/v3/datasets/WIKI/MSFT.json?api_key=BsyCxhg4_kUoiAzc96K7'"
      ]
     },
     "execution_count": 40,
     "metadata": {},
     "output_type": "execute_result"
    }
   ],
   "source": [
    "request_url"
   ]
  },
  {
   "cell_type": "code",
   "execution_count": null,
   "id": "56569cc5-81e9-4640-8a5b-945e204aa370",
   "metadata": {},
   "outputs": [],
   "source": []
  }
 ],
 "metadata": {
  "kernelspec": {
   "display_name": "Python 3 (ipykernel)",
   "language": "python",
   "name": "python3"
  },
  "language_info": {
   "codemirror_mode": {
    "name": "ipython",
    "version": 3
   },
   "file_extension": ".py",
   "mimetype": "text/x-python",
   "name": "python",
   "nbconvert_exporter": "python",
   "pygments_lexer": "ipython3",
   "version": "3.10.12"
  }
 },
 "nbformat": 4,
 "nbformat_minor": 5
}
